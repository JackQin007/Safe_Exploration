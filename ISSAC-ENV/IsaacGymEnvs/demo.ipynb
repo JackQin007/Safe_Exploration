{
 "cells": [
  {
   "cell_type": "code",
   "execution_count": 1,
   "metadata": {},
   "outputs": [
    {
     "name": "stdout",
     "output_type": "stream",
     "text": [
      "Before formatting:\n",
      "[[0.13666727 0.1178372  0.35754039]\n",
      " [0.83258351 0.36042065 0.86701284]\n",
      " [0.80602829 0.05762337 0.73478765]]\n",
      "After formatting:\n",
      "[[0.1367 0.1178 0.3575]\n",
      " [0.8326 0.3604 0.867 ]\n",
      " [0.806  0.0576 0.7348]]\n"
     ]
    }
   ],
   "source": [
    "import numpy as np\n",
    "\n",
    "# 定义一个 3x3 的随机矩阵\n",
    "a = np.random.rand(3, 3)\n",
    "\n",
    "# 打印矩阵\n",
    "print(\"Before formatting:\")\n",
    "print(a)\n",
    "\n",
    "# 设置打印格式\n",
    "def set_np_formatting():\n",
    "    \"\"\" formats numpy print \"\"\"\n",
    "    np.set_printoptions(edgeitems=2, infstr='inf',\n",
    "                        linewidth=40, nanstr='nan', precision=4,\n",
    "                        suppress=False, threshold=10000, formatter=None)\n",
    "set_np_formatting()\n",
    "\n",
    "# 再次打印矩阵\n",
    "print(\"After formatting:\")\n",
    "print(a)\n"
   ]
  },
  {
   "cell_type": "code",
   "execution_count": 2,
   "metadata": {},
   "outputs": [
    {
     "name": "stdout",
     "output_type": "stream",
     "text": [
      "Default edgeitems:\n",
      "[1 2 3 4 5 6 7 8 9]\n",
      "Modified edgeitems:\n",
      "[1 2 3 4 5 6 7 8 9]\n"
     ]
    }
   ],
   "source": [
    "import numpy as np\n",
    "\n",
    "# 创建一个 1 维数组\n",
    "a = np.array([1, 2, 3, 4, 5, 6, 7, 8, 9])\n",
    "\n",
    "# 打印数组（默认情况下显示前后各 3 个边缘项）\n",
    "print(\"Default edgeitems:\")\n",
    "print(a)\n",
    "\n",
    "# 设置边缘项数量为 2\n",
    "np.set_printoptions(edgeitems=2)\n",
    "\n",
    "# 打印数组（只显示前后各 2 个边缘项）\n",
    "print(\"Modified edgeitems:\")\n",
    "print(a)\n"
   ]
  },
  {
   "cell_type": "code",
   "execution_count": 7,
   "metadata": {},
   "outputs": [
    {
     "name": "stdout",
     "output_type": "stream",
     "text": [
      "Default edgeitems:\n",
      "[[1 2 3]\n",
      " [4 5 6]]\n",
      "Modified edgeitems:\n",
      "[[1 2 3]\n",
      " [4 5 6]]\n"
     ]
    }
   ],
   "source": [
    "import numpy as np\n",
    "\n",
    "# 创建一个 2x3 的二维数组\n",
    "a = np.array([[1, 2, 3], [4, 5, 6]])\n",
    "\n",
    "# 打印数组（默认情况下显示前后各 3 个边缘项）\n",
    "print(\"Default edgeitems:\")\n",
    "print(a)\n",
    "\n",
    "# 设置边缘项数量为 1\n",
    "np.set_printoptions(edgeitems=2)\n",
    "\n",
    "# 打印数组（只显示前后各 1 个边缘项）\n",
    "print(\"Modified edgeitems:\")\n",
    "print(a)\n"
   ]
  },
  {
   "cell_type": "code",
   "execution_count": null,
   "metadata": {},
   "outputs": [],
   "source": []
  }
 ],
 "metadata": {
  "kernelspec": {
   "display_name": "safe_exploration",
   "language": "python",
   "name": "python3"
  },
  "language_info": {
   "codemirror_mode": {
    "name": "ipython",
    "version": 3
   },
   "file_extension": ".py",
   "mimetype": "text/x-python",
   "name": "python",
   "nbconvert_exporter": "python",
   "pygments_lexer": "ipython3",
   "version": "3.8.18"
  }
 },
 "nbformat": 4,
 "nbformat_minor": 2
}
