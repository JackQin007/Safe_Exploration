{
 "cells": [
  {
   "cell_type": "code",
   "execution_count": null,
   "metadata": {},
   "outputs": [],
   "source": [
    "import isaacgym\n",
    "\n",
    "# 创建一个默认的SimParams对象\n",
    "sim_params = isaacgym.SimParams()\n",
    "\n",
    "# 指定compute_device和graphics_device\n",
    "compute_device = 0  # 通常是整数，表示计算设备的ID\n",
    "graphics_device = 0  # 通常是整数，表示图形设备的ID\n",
    "\n",
    "# 指定SimType\n",
    "sim_type = isaacgym.SimType.SIM_FLEX\n",
    "\n",
    "# 创建Gym对象\n",
    "gym = isaacgym.Gym()\n",
    "\n",
    "# 创建Simulator\n",
    "sim = gym.create_sim(compute_device, graphics_device, sim_type, sim_params)\n",
    "\n",
    "# 现在你可以使用 sim 对象进行模拟操作\n"
   ]
  },
  {
   "cell_type": "code",
   "execution_count": null,
   "metadata": {},
   "outputs": [],
   "source": []
  }
 ],
 "metadata": {
  "language_info": {
   "name": "python"
  }
 },
 "nbformat": 4,
 "nbformat_minor": 2
}
